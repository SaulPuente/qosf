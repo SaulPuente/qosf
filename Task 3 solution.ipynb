{
 "cells": [
  {
   "cell_type": "markdown",
   "metadata": {},
   "source": [
    "## Solution to task 3\n",
    "\n",
    "## Quantum Circuit Simulator"
   ]
  },
  {
   "cell_type": "code",
   "execution_count": 1,
   "metadata": {},
   "outputs": [],
   "source": [
    "import numpy as np"
   ]
  },
  {
   "cell_type": "code",
   "execution_count": 2,
   "metadata": {},
   "outputs": [],
   "source": [
    "def get_ground_state(num_qubits):\n",
    "    # return vector of size 2**num_qubits with all zeroes except first element which is 1\n",
    "    state = np.zeros(2**num_qubits)\n",
    "    state[0] = 1\n",
    "    return state"
   ]
  },
  {
   "cell_type": "code",
   "execution_count": 3,
   "metadata": {},
   "outputs": [],
   "source": [
    "def get_operator(total_qubits, gate_unitary, target_qubits):\n",
    "    # return unitary operator of size 2**n x 2**n for given gate and target qubits\n",
    "    \n",
    "    # Define 2x2 Identity\n",
    "\n",
    "    I = np.identity(2)\n",
    "    \n",
    "    # Define projection operator |0><0|\n",
    "\n",
    "    P0x0 = np.array([\n",
    "    [1, 0],\n",
    "    [0, 0]\n",
    "    ])\n",
    "\n",
    "    # Define projection operator |1><1|\n",
    "\n",
    "    P1x1 = np.array([\n",
    "    [0, 0],\n",
    "    [0, 1]\n",
    "    ])\n",
    "    \n",
    "    # Define X gate (CNOT is controlled-X)\n",
    "    X = np.array([\n",
    "    [0, 1],\n",
    "    [1, 0]\n",
    "    ])\n",
    "    \n",
    "    if gate_unitary == 'x':\n",
    "        if target_qubits[0] == 0:\n",
    "            O = X\n",
    "        else:\n",
    "            O = I\n",
    "        for i in range(1,total_qubits):\n",
    "            if i == target_qubits[0]:\n",
    "                O = np.kron(O,X)\n",
    "            else:\n",
    "                O = np.kron(O,I)\n",
    "    elif gate_unitary == 'h':\n",
    "    # Define H (Hadamard) gate:\n",
    "        H = np.array([\n",
    "        [1/np.sqrt(2), 1/np.sqrt(2)],\n",
    "        [1/np.sqrt(2), -1/np.sqrt(2)]\n",
    "        ])\n",
    "        if target_qubits[0] == 0:\n",
    "            O = H\n",
    "        else:\n",
    "            O = I\n",
    "        for i in range(1, total_qubits):\n",
    "            if i == target_qubits[0]:\n",
    "                O = np.kron(O,H)\n",
    "            else:\n",
    "                O = np.kron(O,I)\n",
    "    # Define CNOT gate            \n",
    "    elif gate_unitary == 'cx':\n",
    "        O = [0]*2\n",
    "        if target_qubits[0] == 0:\n",
    "            O[0] = P0x0\n",
    "            O[1] = P1x1\n",
    "        elif target_qubits[1] == 0:\n",
    "            O[0] = I\n",
    "            O[1] = X\n",
    "        else:\n",
    "            O[0] = I\n",
    "            O[1] = I\n",
    "        for i in range(1, total_qubits):\n",
    "            if i == target_qubits[0]:\n",
    "                O[0] = np.kron(O[0], P0x0)\n",
    "                O[1] = np.kron(O[1], P1x1)\n",
    "            elif i == target_qubits[1]:\n",
    "                O[0] = np.kron(O[0], I)\n",
    "                O[1] = np.kron(O[1], X)\n",
    "            else:\n",
    "                O[0] = np.kron(O[0], I)\n",
    "                O[1] = np.kron(O[1], I)\n",
    "        O = sum(O)\n",
    "\n",
    "    \n",
    "    return O"
   ]
  },
  {
   "cell_type": "code",
   "execution_count": 4,
   "metadata": {},
   "outputs": [],
   "source": [
    "def run_program(initial_state, program):\n",
    "    # read program, and for each gate:\n",
    "    #   - calculate matrix operator\n",
    "    #   - multiply state with operator\n",
    "    # return final state\n",
    "    Nqubits = int(np.log2(len(initial_state)))\n",
    "    final_state = initial_state\n",
    "    for gate in program:\n",
    "        O = get_operator(Nqubits, gate[\"gate\"], gate[\"target\"])\n",
    "        final_state = np.dot(O, final_state)\n",
    "        \n",
    "    return final_state"
   ]
  },
  {
   "cell_type": "code",
   "execution_count": 5,
   "metadata": {},
   "outputs": [],
   "source": [
    "from numpy.random import choice \n",
    "def measure_all(state_vector):\n",
    "    # choose element from state_vector using weighted random and return it's index\n",
    "    \n",
    "    states = list(range(len(state_vector)))\n",
    "    probs = list(np.abs(state_vector)**2)\n",
    "    result = choice(states, p=probs) \n",
    "    \n",
    "    return result"
   ]
  },
  {
   "cell_type": "code",
   "execution_count": 6,
   "metadata": {},
   "outputs": [],
   "source": [
    "def get_counts(state_vector, num_shots):\n",
    "    # simply execute measure_all in a loop num_shots times and\n",
    "    # return object with statistics in following form:\n",
    "    #   {\n",
    "    #      element_index: number_of_ocurrences,\n",
    "    #      element_index: number_of_ocurrences,\n",
    "    #      element_index: number_of_ocurrences,\n",
    "    #      ...\n",
    "    #   }\n",
    "    # (only for elements which occoured - returned from measure_all)\n",
    "\n",
    "    measurements = {}\n",
    "    Nstates = len(state_vector)\n",
    "    Nqubits = int(np.log2(Nstates))\n",
    "    \n",
    "    probs = list(np.abs(state_vector)**2)\n",
    "    for i in range(num_shots):\n",
    "        result = measure_all(state_vector)\n",
    "        index = bin(result)[2:]\n",
    "        index = '0'*(Nqubits-len(index)) + index\n",
    "        if index not in measurements:\n",
    "            measurements[index] = 0\n",
    "        measurements[index] += 1 \n",
    "    \n",
    "    measurements = {key: value for key, value in sorted(measurements.items())}\n",
    "    return measurements"
   ]
  },
  {
   "cell_type": "code",
   "execution_count": 9,
   "metadata": {},
   "outputs": [
    {
     "name": "stdout",
     "output_type": "stream",
     "text": [
      "{'00': 485, '11': 515}\n"
     ]
    }
   ],
   "source": [
    "# Define program:\n",
    "\n",
    "my_circuit = [\n",
    "{ \"gate\": \"h\", \"target\": [0] }, \n",
    "{ \"gate\": \"cx\", \"target\": [0, 1] }\n",
    "]\n",
    "\n",
    "\n",
    "# Create \"quantum computer\" with 2 qubits (this is actually just a vector :) )\n",
    "\n",
    "my_qpu = get_ground_state(2)\n",
    "\n",
    "\n",
    "# Run circuit\n",
    "\n",
    "final_state = run_program(my_qpu, my_circuit)\n",
    "\n",
    "\n",
    "# Read results\n",
    "\n",
    "counts = get_counts(final_state, 1000)\n",
    "\n",
    "print(counts)\n",
    "\n",
    "# Should print something like:\n",
    "# {\n",
    "#   \"00\": 502,\n",
    "#   \"11\": 498\n",
    "# }\n",
    "\n",
    "# Voila!\n"
   ]
  },
  {
   "cell_type": "code",
   "execution_count": null,
   "metadata": {},
   "outputs": [],
   "source": []
  }
 ],
 "metadata": {
  "kernelspec": {
   "display_name": "Python 3",
   "language": "python",
   "name": "python3"
  },
  "language_info": {
   "codemirror_mode": {
    "name": "ipython",
    "version": 3
   },
   "file_extension": ".py",
   "mimetype": "text/x-python",
   "name": "python",
   "nbconvert_exporter": "python",
   "pygments_lexer": "ipython3",
   "version": "3.8.3"
  }
 },
 "nbformat": 4,
 "nbformat_minor": 4
}
